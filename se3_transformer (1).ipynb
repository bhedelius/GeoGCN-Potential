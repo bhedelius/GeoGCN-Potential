{
  "nbformat": 4,
  "nbformat_minor": 0,
  "metadata": {
    "colab": {
      "name": "se3-transformer.ipynb",
      "provenance": [],
      "collapsed_sections": []
    },
    "kernelspec": {
      "name": "python3",
      "display_name": "Python 3"
    }
  },
  "cells": [
    {
      "cell_type": "code",
      "metadata": {
        "colab": {
          "base_uri": "https://localhost:8080/"
        },
        "id": "ulxwtkGl_5aK",
        "outputId": "a538a1e7-f85e-4978-85a4-876f3d2a8091"
      },
      "source": [
        "# Install libraries\r\n",
        "!pip install --pre dgl-cu101\r\n",
        "\r\n",
        "# Import libraries\r\n",
        "import torch\r\n",
        "from torch import nn\r\n",
        "import torch.nn.functional as F\r\n",
        "\r\n",
        "import dgl\r\n",
        "import dgl.function as fn\r\n",
        "from dgl import DGLGraph\r\n",
        "\r\n",
        "from scipy.special import sph_harm"
      ],
      "execution_count": null,
      "outputs": [
        {
          "output_type": "stream",
          "text": [
            "Requirement already satisfied: dgl-cu101 in /usr/local/lib/python3.6/dist-packages (0.6a210119)\n",
            "Requirement already satisfied: numpy>=1.14.0 in /usr/local/lib/python3.6/dist-packages (from dgl-cu101) (1.19.5)\n",
            "Requirement already satisfied: networkx>=2.1 in /usr/local/lib/python3.6/dist-packages (from dgl-cu101) (2.5)\n",
            "Requirement already satisfied: scipy>=1.1.0 in /usr/local/lib/python3.6/dist-packages (from dgl-cu101) (1.4.1)\n",
            "Requirement already satisfied: requests>=2.19.0 in /usr/local/lib/python3.6/dist-packages (from dgl-cu101) (2.23.0)\n",
            "Requirement already satisfied: decorator>=4.3.0 in /usr/local/lib/python3.6/dist-packages (from networkx>=2.1->dgl-cu101) (4.4.2)\n",
            "Requirement already satisfied: certifi>=2017.4.17 in /usr/local/lib/python3.6/dist-packages (from requests>=2.19.0->dgl-cu101) (2020.12.5)\n",
            "Requirement already satisfied: idna<3,>=2.5 in /usr/local/lib/python3.6/dist-packages (from requests>=2.19.0->dgl-cu101) (2.10)\n",
            "Requirement already satisfied: urllib3!=1.25.0,!=1.25.1,<1.26,>=1.21.1 in /usr/local/lib/python3.6/dist-packages (from requests>=2.19.0->dgl-cu101) (1.24.3)\n",
            "Requirement already satisfied: chardet<4,>=3.0.2 in /usr/local/lib/python3.6/dist-packages (from requests>=2.19.0->dgl-cu101) (3.0.4)\n"
          ],
          "name": "stdout"
        }
      ]
    },
    {
      "cell_type": "code",
      "metadata": {
        "id": "TG91AePzwoUk"
      },
      "source": [
        "from numpy import sqrt\r\n",
        "from scipy.special import factorial\r\n",
        "\r\n",
        "\r\n",
        "def clebsch_gordan(j1,j2,m1,m2,J,M=None):\r\n",
        "  ''' Using equations from Wikipedia: https://en.wikipedia.org/wiki/Table_of_Clebsch–Gordan_coefficients '''\r\n",
        "  if M is None:\r\n",
        "    M=m1+m2\r\n",
        "  if M<0:\r\n",
        "    return (-1)**(J-j1-j2)*clebsch_gordan(j1,j2,-m1,-m2,J,-M)\r\n",
        "  if j1<j2:\r\n",
        "    return (-1)**(J-j1-j2)*clebsch_gordan(j2,j1,m2,m1,J,M)\r\n",
        "  if not M==m1+m2:\r\n",
        "    return 0\r\n",
        "  A = sqrt((2*J+1)*factorial(J+j1-j2)*factorial(J-j1+j2)*factorial(j1+j2-J)/factorial(j1+j2+J+1))\r\n",
        "  B = sqrt(factorial(J+M)*factorial(J-M)*factorial(j1-m1)*factorial(j1+m1)*factorial(j2-m2)*factorial(j2+m2))\r\n",
        "  k_max = min([j1+j2-J,j1-m1,j2+m2])\r\n",
        "  k_min = max([0,-(J-j2+m1),-(J-j1-m2)])\r\n",
        "  C = 0\r\n",
        "  for k in range(int(k_min), int(k_max)+1):\r\n",
        "    C += (-1)**k/(factorial(k)*factorial(j1+j2-J-k)*factorial(j1-m1-k)*factorial(j2+m2-k)*factorial(J-j2+m1+k)*factorial(J-j1-m2+k))\r\n",
        "  return A*B*C\r\n",
        "\r\n",
        "clebsch_gordan(1/2,1/2,1/2,1/2,1,1)"
      ],
      "execution_count": null,
      "outputs": []
    },
    {
      "cell_type": "code",
      "metadata": {
        "id": "TP3XXftOBIOs"
      },
      "source": [
        "# Tensor Field Convolution Layer\r\n",
        "\r\n",
        "# None of this is tested nor expected to work.  It is simply an outline of the\r\n",
        "# components of the layer are used together.\r\n",
        "\r\n",
        "# TODO: Finish implementing\r\n",
        "# TODO: Make sure the layer feeds through\r\n",
        "# TODO: Test for equivariance - test cases\r\n",
        "# TODO: Test efficiency against other implements.\r\n",
        "\r\n",
        "class ConvLayer(nn.Module):\r\n",
        "  '''Equation 3 in Tensor Field Network paper'''\r\n",
        "  def __init__(self, c, li, lf, lo):\r\n",
        "    super(ConvLayer, self).__init__()\r\n",
        "    self.c = c\r\n",
        "    self.li = li\r\n",
        "    self.lf = lf\r\n",
        "    self.lo = lo\r\n",
        "\r\n",
        "    self.cg = torch.zeros((2*self.li+1,2*self.lo+1))\r\n",
        "    for i,m1 in enumerate(np.arange(-j1,j1+1)):\r\n",
        "      for j,m2 in enumerate(-np.arange(-j2,j2+1)):\r\n",
        "        cb[i,j] = clebsch_gordan(j1,j2,m1,m2,J)\r\n",
        "\r\n",
        "\r\n",
        "    self.radial = nn.Sequential(nn.Linear(1,5), nn.ReLU(), nn.Linear(5,self.c))\r\n",
        "\r\n",
        "  def _inner_sum_(self, r_vec, V):\r\n",
        "    '''Does the sum over b in S'''\r\n",
        "    # For a given a so the layer scales with edges, not points squared\r\n",
        "    # r_vec:  [BxX]\r\n",
        "    # V:      [BxCxLi]\r\n",
        "    #\r\n",
        "    # r:      [B]\r\n",
        "    # R:      [BxC]\r\n",
        "    # r_hat:  [BxX]\r\n",
        "    # m:      [Lf]\r\n",
        "    # Y:      [BxLf]\r\n",
        "    # \r\n",
        "    # Li and Lf will be called i and f in einsum respectively\r\n",
        "\r\n",
        "    r = torch.sqrt(torch.sum(r_vec**2,axis=1))\r\n",
        "    R = self.radial(r[None,:])[0]\r\n",
        "\r\n",
        "    m = -torch.arange(-self.l, self.l+1) # Backward so diag works!\r\n",
        "    theta = torch.arctan2(r_vec[0],r_vec[1])\r\n",
        "    phi = torch.arccos(r_hat[2])\r\n",
        "    Y = sph_harm(m, self.lf, theta, phi)\r\n",
        "\r\n",
        "    return torch.einsum('bc,bf,bci->cfi',R,Y,V)\r\n",
        "\r\n",
        "  def forward(self, a, g):\r\n",
        "    for a in g.nodes:\r\n",
        "      r_vec = r[a] - r[:] # How to get connected nodes?\r\n",
        "      V_select = V[a]\r\n",
        "      sum[a] = self._inner_sum_(r_vec, V_select)\r\n",
        "    prod = self.cg[None,None,:,:] * sum[:,:,:,:]\r\n",
        "    L = torch.zeros((2*self.lo+1))\r\n",
        "    for i, mo in enumerate(torch.arange(-self.lo,self.lo+1)):\r\n",
        "      L[i] = torch.sum(torch.diag(prod, diag=mo, axes=(2,3)))\r\n",
        "    return L\r\n",
        "\r\n"
      ],
      "execution_count": null,
      "outputs": []
    },
    {
      "cell_type": "code",
      "metadata": {
        "colab": {
          "base_uri": "https://localhost:8080/",
          "height": 268
        },
        "id": "c9pQDcSg9qTt",
        "outputId": "4e0f7030-91f1-40fe-f197-00b8b6ba3672"
      },
      "source": [
        "j1=30\r\n",
        "j2=30\r\n",
        "J=30\r\n",
        "cb = np.zeros((2*j1+1,2*j2+1))\r\n",
        "for i,m1 in enumerate(np.arange(-j1,j1+1)):\r\n",
        "  for j,m2 in enumerate(np.arange(-j2,j2+1)):\r\n",
        "    cb[i,j] = clebsch_gordan(j1,j2,m1,m2,J)\r\n",
        "\r\n",
        "cb*cb\r\n",
        "import matplotlib.pyplot as plt\r\n",
        "plt.imshow(cb)\r\n",
        "plt.show()"
      ],
      "execution_count": null,
      "outputs": [
        {
          "output_type": "display_data",
          "data": {
            "image/png": "[encoded data removed]",
            "text/plain": [
              "<Figure size 432x288 with 1 Axes>"
            ]
          },
          "metadata": {
            "tags": [],
            "needs_background": "light"
          }
        }
      ]
    },
    {
      "cell_type": "code",
      "metadata": {
        "id": "Hqpn1BuV2grd"
      },
      "source": [
        ""
      ],
      "execution_count": null,
      "outputs": []
    }
  ]
}